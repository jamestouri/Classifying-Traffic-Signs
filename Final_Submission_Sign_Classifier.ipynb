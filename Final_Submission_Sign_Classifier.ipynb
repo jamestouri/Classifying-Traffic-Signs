{
 "cells": [
  {
   "cell_type": "markdown",
   "metadata": {},
   "source": [
    "# Self-Driving Car Engineer Nanodegree\n",
    "\n",
    "## Deep Learning\n",
    "\n",
    "## Project: Build a Traffic Sign Recognition Classifier\n",
    "\n",
    "In this notebook, a template is provided for you to implement your functionality in stages, which is required to successfully complete this project. If additional code is required that cannot be included in the notebook, be sure that the Python code is successfully imported and included in your submission if necessary. \n",
    "\n",
    "> **Note**: Once you have completed all of the code implementations, you need to finalize your work by exporting the iPython Notebook as an HTML document. Before exporting the notebook to html, all of the code cells need to have been run so that reviewers can see the final implementation and output. You can then export the notebook by using the menu above and navigating to  \\n\",\n",
    "    \"**File -> Download as -> HTML (.html)**. Include the finished document along with this notebook as your submission. \n",
    "\n",
    "In addition to implementing code, there is a writeup to complete. The writeup should be completed in a separate file, which can be either a markdown file or a pdf document. There is a [write up template](https://github.com/udacity/CarND-Traffic-Sign-Classifier-Project/blob/master/writeup_template.md) that can be used to guide the writing process. Completing the code template and writeup template will cover all of the [rubric points](https://review.udacity.com/#!/rubrics/481/view) for this project.\n",
    "\n",
    "The [rubric](https://review.udacity.com/#!/rubrics/481/view) contains \"Stand Out Suggestions\" for enhancing the project beyond the minimum requirements. The stand out suggestions are optional. If you decide to pursue the \"stand out suggestions\", you can include the code in this Ipython notebook and also discuss the results in the writeup file.\n",
    "\n",
    "\n",
    ">**Note:** Code and Markdown cells can be executed using the **Shift + Enter** keyboard shortcut. In addition, Markdown cells can be edited by typically double-clicking the cell to enter edit mode."
   ]
  },
  {
   "cell_type": "markdown",
   "metadata": {},
   "source": [
    "---\n",
    "## Step 0: Load The Data"
   ]
  },
  {
   "cell_type": "code",
   "execution_count": 1,
   "metadata": {
    "collapsed": false
   },
   "outputs": [],
   "source": [
    "# Load pickled data\n",
    "import pickle\n",
    "\n",
    "# TODO: Fill this in based on where you saved the training and testing data\n",
    "import zipfile\n",
    "zip_ref = zipfile.ZipFile(\"./MNIST-Data/traffic-signs-data/traffic-signs-data.zip\", 'r')\n",
    "zip_ref.extractall(\"./MNIST-Data/traffic-signs-data\")\n",
    "zip_ref.close()\n",
    "\n",
    "training_file = \"./MNIST-Data/traffic-signs-data/train.p\"\n",
    "validation_file= \"./MNIST-Data/traffic-signs-data/valid.p\"\n",
    "testing_file = \"./MNIST-Data/traffic-signs-data/valid.p\"\n",
    "\n",
    "with open(training_file, mode='rb') as f:\n",
    "    train = pickle.load(f)\n",
    "with open(validation_file, mode='rb') as f:\n",
    "    valid = pickle.load(f)\n",
    "with open(testing_file, mode='rb') as f:\n",
    "    test = pickle.load(f)\n",
    "    \n",
    "X_train, y_train = train['features'], train['labels']\n",
    "X_valid, y_valid = valid['features'], valid['labels']\n",
    "X_test, y_test = test['features'], test['labels']"
   ]
  },
  {
   "cell_type": "markdown",
   "metadata": {},
   "source": [
    "---\n",
    "\n",
    "## Step 1: Dataset Summary & Exploration\n",
    "\n",
    "The pickled data is a dictionary with 4 key/value pairs:\n",
    "\n",
    "- `'features'` is a 4D array containing raw pixel data of the traffic sign images, (num examples, width, height, channels).\n",
    "- `'labels'` is a 1D array containing the label/class id of the traffic sign. The file `signnames.csv` contains id -> name mappings for each id.\n",
    "- `'sizes'` is a list containing tuples, (width, height) representing the original width and height the image.\n",
    "- `'coords'` is a list containing tuples, (x1, y1, x2, y2) representing coordinates of a bounding box around the sign in the image. **THESE COORDINATES ASSUME THE ORIGINAL IMAGE. THE PICKLED DATA CONTAINS RESIZED VERSIONS (32 by 32) OF THESE IMAGES**\n",
    "\n",
    "Complete the basic data summary below. Use python, numpy and/or pandas methods to calculate the data summary rather than hard coding the results. For example, the [pandas shape method](http://pandas.pydata.org/pandas-docs/stable/generated/pandas.DataFrame.shape.html) might be useful for calculating some of the summary results. "
   ]
  },
  {
   "cell_type": "markdown",
   "metadata": {},
   "source": [
    "### Provide a Basic Summary of the Data Set Using Python, Numpy and/or Pandas"
   ]
  },
  {
   "cell_type": "code",
   "execution_count": 2,
   "metadata": {
    "collapsed": false
   },
   "outputs": [
    {
     "name": "stdout",
     "output_type": "stream",
     "text": [
      "Number of training examples = 34799\n",
      "Number of testing examples = 4410\n",
      "Image data shape = (32, 32, 3)\n",
      "Number of classes = 43\n"
     ]
    }
   ],
   "source": [
    "### Replace each question mark with the appropriate value. \n",
    "### Use python, pandas or numpy methods rather than hard coding the results\n",
    "#start here\n",
    "# TODO: Number of training examples\n",
    "\n",
    "import numpy as np\n",
    "\n",
    "n_train = len(X_train)\n",
    "\n",
    "# TODO: Number of validation examples\n",
    "n_validation = len(X_valid)\n",
    "\n",
    "# TODO: Number of testing examples.\n",
    "n_test = len(X_test)\n",
    "\n",
    "# TODO: What's the shape of an traffic sign image?\n",
    "image_shape = X_train[0].shape\n",
    "\n",
    "# TODO: How many unique classes/labels there are in the dataset.\n",
    "n_classes = len(np.unique(y_train))\n",
    "\n",
    "print(\"Number of training examples =\", n_train)\n",
    "print(\"Number of testing examples =\", n_test)\n",
    "print(\"Image data shape =\", image_shape)\n",
    "print(\"Number of classes =\", n_classes)"
   ]
  },
  {
   "cell_type": "markdown",
   "metadata": {},
   "source": [
    "### Include an exploratory visualization of the dataset"
   ]
  },
  {
   "cell_type": "markdown",
   "metadata": {},
   "source": [
    "Visualize the German Traffic Signs Dataset using the pickled file(s). This is open ended, suggestions include: plotting traffic sign images, plotting the count of each sign, etc. \n",
    "\n",
    "The [Matplotlib](http://matplotlib.org/) [examples](http://matplotlib.org/examples/index.html) and [gallery](http://matplotlib.org/gallery.html) pages are a great resource for doing visualizations in Python.\n",
    "\n",
    "**NOTE:** It's recommended you start with something simple first. If you wish to do more, come back to it after you've completed the rest of the sections. It can be interesting to look at the distribution of classes in the training, validation and test set. Is the distribution the same? Are there more examples of some classes than others?"
   ]
  },
  {
   "cell_type": "code",
   "execution_count": 3,
   "metadata": {
    "collapsed": false
   },
   "outputs": [
    {
     "name": "stdout",
     "output_type": "stream",
     "text": [
      "[41 41 41 ..., 25 25 25] 31124\n"
     ]
    },
    {
     "data": {
      "image/png": "[encoded data removed]",
      "text/plain": [
       "<matplotlib.figure.Figure at 0x7f80ea76d0b8>"
      ]
     },
     "metadata": {},
     "output_type": "display_data"
    }
   ],
   "source": [
    "### Data exploration visualization code goes here.\n",
    "### Feel free to use as many code cells as needed.\n",
    "import random\n",
    "import matplotlib.pyplot as plt\n",
    "# Visualizations will be shown in the notebook.\n",
    "%matplotlib inline\n",
    "index = random.randint(0, len(X_train))\n",
    "image = X_train[index].squeeze()\n",
    "\n",
    "plt.figure(figsize= (2, 2))\n",
    "plt.imshow(image)\n",
    "\n",
    "print(y_train, index)\n"
   ]
  },
  {
   "cell_type": "markdown",
   "metadata": {},
   "source": [
    "----\n",
    "\n",
    "## Step 2: Design and Test a Model Architecture\n",
    "\n",
    "Design and implement a deep learning model that learns to recognize traffic signs. Train and test your model on the [German Traffic Sign Dataset](http://benchmark.ini.rub.de/?section=gtsrb&subsection=dataset).\n",
    "\n",
    "The LeNet-5 implementation shown in the [classroom](https://classroom.udacity.com/nanodegrees/nd013/parts/fbf77062-5703-404e-b60c-95b78b2f3f9e/modules/6df7ae49-c61c-4bb2-a23e-6527e69209ec/lessons/601ae704-1035-4287-8b11-e2c2716217ad/concepts/d4aca031-508f-4e0b-b493-e7b706120f81) at the end of the CNN lesson is a solid starting point. You'll have to change the number of classes and possibly the preprocessing, but aside from that it's plug and play! \n",
    "\n",
    "With the LeNet-5 solution from the lecture, you should expect a validation set accuracy of about 0.89. To meet specifications, the validation set accuracy will need to be at least 0.93. It is possible to get an even higher accuracy, but 0.93 is the minimum for a successful project submission. \n",
    "\n",
    "There are various aspects to consider when thinking about this problem:\n",
    "\n",
    "- Neural network architecture (is the network over or underfitting?)\n",
    "- Play around preprocessing techniques (normalization, rgb to grayscale, etc)\n",
    "- Number of examples per label (some have more than others).\n",
    "- Generate fake data.\n",
    "\n",
    "Here is an example of a [published baseline model on this problem](http://yann.lecun.com/exdb/publis/pdf/sermanet-ijcnn-11.pdf). It's not required to be familiar with the approach used in the paper but, it's good practice to try to read papers like these."
   ]
  },
  {
   "cell_type": "markdown",
   "metadata": {},
   "source": [
    "### Pre-process the Data Set (normalization, grayscale, etc.)"
   ]
  },
  {
   "cell_type": "markdown",
   "metadata": {},
   "source": [
    "Minimally, the image data should be normalized so that the data has mean zero and equal variance. For image data, `(pixel - 128)/ 128` is a quick way to approximately normalize the data and can be used in this project. \n",
    "\n",
    "Other pre-processing steps are optional. You can try different techniques to see if it improves performance. \n",
    "\n",
    "Use the code cell (or multiple code cells, if necessary) to implement the first step of your project."
   ]
  },
  {
   "cell_type": "code",
   "execution_count": 4,
   "metadata": {
    "collapsed": false
   },
   "outputs": [
    {
     "name": "stdout",
     "output_type": "stream",
     "text": [
      "X_train_gray (34799, 32, 32, 1)\n",
      "X_valid_gray (4410, 32, 32, 1)\n",
      "X_test_gray (4410, 32, 32, 1)\n"
     ]
    }
   ],
   "source": [
    "### Preprocess the data here. It is required to normalize the data. Other preprocessing steps could include \n",
    "### converting to grayscale, etc.\n",
    "### Feel free to use as many code cells as needed.\n",
    "from sklearn.utils import shuffle\n",
    "import cv2\n",
    "\n",
    "#Conducting Grayscale \n",
    "\n",
    "X_train_gray = np.sum(X_train/3, axis = 3, keepdims= True)\n",
    "X_valid_gray = np.sum(X_valid/3, axis = 3, keepdims= True)\n",
    "X_test_gray = np.sum(X_test/3, axis= 3, keepdims= True)\n",
    "\n",
    "print(\"X_train_gray\", X_train_gray.shape)\n",
    "print(\"X_valid_gray\", X_valid_gray.shape)\n",
    "print(\"X_test_gray\", X_test_gray.shape)\n",
    "\n",
    "\n",
    "\n"
   ]
  },
  {
   "cell_type": "code",
   "execution_count": 5,
   "metadata": {
    "collapsed": false
   },
   "outputs": [
    {
     "name": "stdout",
     "output_type": "stream",
     "text": [
      "-0.354081335648\n",
      "-0.347215411128\n"
     ]
    }
   ],
   "source": [
    "#Quick Normalizing according to the paragraph above\n",
    "\n",
    "X_train_normalize = ((X_train_gray - 128) / 128)\n",
    "X_valid_normalize = ((X_valid_gray - 128) / 128)\n",
    "X_test_normalize = ((X_test_gray - 128) / 128)\n",
    "\n",
    "print(np.mean(X_train_normalize))\n",
    "print(np.mean(X_test_normalize))\n",
    "\n",
    "X_train = X_train_normalize\n",
    "X_valid = X_valid_normalize\n",
    "X_test = X_test_normalize"
   ]
  },
  {
   "cell_type": "code",
   "execution_count": 6,
   "metadata": {
    "collapsed": false
   },
   "outputs": [
    {
     "name": "stdout",
     "output_type": "stream",
     "text": [
      "[41 41 41 ..., 25 25 25] 18663\n"
     ]
    },
    {
     "data": {
      "image/png": "[encoded data removed]",
      "text/plain": [
       "<matplotlib.figure.Figure at 0x7f80c2f48978>"
      ]
     },
     "metadata": {},
     "output_type": "display_data"
    }
   ],
   "source": [
    "%matplotlib inline\n",
    "index = random.randint(0, len(X_train))\n",
    "image = X_train[index].squeeze()\n",
    "image2 = X_train[15].squeeze()\n",
    "\n",
    "plt.figure(figsize= (6, 6))\n",
    "plt.imshow(image2)\n",
    "\n",
    "print(y_train, index)"
   ]
  },
  {
   "cell_type": "code",
   "execution_count": 7,
   "metadata": {
    "collapsed": false
   },
   "outputs": [],
   "source": [
    "import tensorflow as tf \n",
    "import skimage\n",
    "\n"
   ]
  },
  {
   "cell_type": "code",
   "execution_count": 8,
   "metadata": {
    "collapsed": false
   },
   "outputs": [],
   "source": [
    "from scipy.ndimage.interpolation import rotate\n",
    "\n",
    "def sharpen_img(img):\n",
    "    gb = cv2.GaussianBlur(img, (5,5), 20.0)\n",
    "    return cv2.addWeighted(img, 2, gb, -1, 0)\n"
   ]
  },
  {
   "cell_type": "code",
   "execution_count": 9,
   "metadata": {
    "collapsed": true
   },
   "outputs": [],
   "source": [
    "def add_blur(img):\n",
    "    blur_effect = 5\n",
    "    blurred_image = cv2.GaussianBlur(img, (blur_effect, blur_effect), 0)\n",
    "    return blurred_image"
   ]
  },
  {
   "cell_type": "code",
   "execution_count": 10,
   "metadata": {
    "collapsed": true
   },
   "outputs": [],
   "source": [
    "def translate_random(img):\n",
    "    np.random.seed(42)\n",
    "    rand_x = np.random.randint(-5,5)\n",
    "    rand_y = np.random.randint(-5,5)\n",
    "    translation_matrix = np.float32([ [1,0,rand_x], [0,1,rand_y]])\n",
    "    return cv2.warpAffine(img, translation_matrix, (32, 32))"
   ]
  },
  {
   "cell_type": "code",
   "execution_count": 11,
   "metadata": {
    "collapsed": true
   },
   "outputs": [],
   "source": [
    "def add_noise(img):\n",
    "    noisy_image = skimage.util.random_noise(img, mode='gaussian', seed=None, clip=True) \n",
    "    return np.asarray(noisy_image, dtype=\"uint8\")"
   ]
  },
  {
   "cell_type": "code",
   "execution_count": 12,
   "metadata": {
    "collapsed": true
   },
   "outputs": [],
   "source": [
    "def augment_all(data):\n",
    "    for x in data:\n",
    "        rand_number = random.randint(0, 6)\n",
    "        if rand_number == 0:\n",
    "            x = translate_random(x)\n",
    "        if rand_number == 1:\n",
    "            x = add_blur(x)\n",
    "        if rand_number == 2:\n",
    "            x = add_noise(x)\n",
    "        if rand_number == 3:\n",
    "            x = sharpen_img(x)\n",
    "    return data \n",
    "    \n",
    "    \n"
   ]
  },
  {
   "cell_type": "markdown",
   "metadata": {},
   "source": [
    "### Model Architecture"
   ]
  },
  {
   "cell_type": "code",
   "execution_count": 13,
   "metadata": {
    "collapsed": false
   },
   "outputs": [],
   "source": [
    "### Define your architecture here.\n",
    "### Feel free to use as many code cells as needed.\n",
    "\n",
    "\n",
    "EPOCHS = 40\n",
    "BATCH_SIZE = 120\n",
    "\n"
   ]
  },
  {
   "cell_type": "code",
   "execution_count": 14,
   "metadata": {
    "collapsed": false
   },
   "outputs": [],
   "source": [
    "#Architecture of the Convolutional Neural Network Begins Here\n",
    "from tensorflow.contrib.layers import flatten\n",
    "\n",
    "def LeNet(x):\n",
    "    # Hyperparameters\n",
    "    mu = 0\n",
    "    sigma = 0.1\n",
    "    strides = [1, 1, 1, 1]\n",
    "    stride_pool = [1, 2, 2, 1]\n",
    "    dropout = 0.5\n",
    "    \n",
    "    #Layer 0\n",
    "    \n",
    "    #First Layer 32 32 1 output 30 30 10\n",
    "    weights_0 = tf.Variable(tf.truncated_normal(shape= (3, 3, 1, 10), mean= mu, stddev= sigma))\n",
    "    bias_0 = tf.Variable(tf.zeros(10))\n",
    "    \n",
    "    conv_0 = tf.nn.conv2d(x, weights_0, strides, padding= 'VALID') + bias_0\n",
    "    \n",
    "    #Activation\n",
    "    conv_0 = tf.nn.relu(conv_0)\n",
    "    conv_0 = tf.nn.dropout(conv_0, 0.9)\n",
    "    \n",
    "    #Layer 1 Input 32x32x1 Output 28x28x100\n",
    "    weights_1 = tf.Variable(tf.truncated_normal(shape=(3, 3, 10, 100), mean= mu, stddev= sigma))\n",
    "    bias_1 = tf.Variable(tf.zeros(100))\n",
    "    \n",
    "    conv_1 = tf.nn.conv2d(conv_0, weights_1, strides, padding= \"VALID\") + bias_1\n",
    "    \n",
    "    #Activation \n",
    "    conv_1 = tf.nn.relu(conv_1)\n",
    "    \n",
    "#     #Layer 1.5 Input 28 28 200\n",
    "#     weights_15 = tf.Variable(tf.truncated_normal(shape=(3, 3, 100, 200), mean= mu, stddev= sigma))\n",
    "#     bias_15 = tf.Variable(tf.zeros(200))\n",
    "    \n",
    "#     conv_15 = tf.nn.conv2d(conv_1, weights_15, strides, padding= 'SAME') + bias_15\n",
    "    \n",
    "#     #Activation\n",
    "#     conv_15 = tf.nn.relu(conv_15)\n",
    "    \n",
    "    #MaxPool 28 28 100 output 14 14 100\n",
    "    filter_shape = [1, 2, 2, 1]\n",
    "    pool_1 = tf.nn.max_pool(conv_1, filter_shape, stride_pool, padding= \"VALID\")\n",
    "    \n",
    "    #Layer 2 Input 14 14 10 output 10 10 150\n",
    "    weights_2 = tf.Variable(tf.truncated_normal(shape=(5, 5, 100, 150), mean = mu, stddev=sigma))\n",
    "    bias_2 = tf.Variable(tf.zeros(150))\n",
    "    \n",
    "    conv_2 = tf.nn.conv2d(pool_1, weights_2, strides, padding= \"VALID\") + bias_2\n",
    "    \n",
    "    #Activation \n",
    "    conv_2 = tf.nn.relu(conv_2)\n",
    "    conv_2 = tf.nn.dropout(conv_2, 0.8)\n",
    "    \n",
    "    #Maxpool 10 10 150 output 5 5 150\n",
    "    filter_shape_2 = [1, 2, 2, 1]\n",
    "    pool_2 = tf.nn.max_pool(conv_2, filter_shape_2, stride_pool, padding=\"VALID\")\n",
    "    \n",
    "    #Layer 3 Input 5 5 150 output 4 4 250\n",
    "    weights_3 = tf.Variable(tf.truncated_normal(shape=(2, 2, 150, 250), mean= mu, stddev=sigma))\n",
    "    bias_3 = tf.Variable(tf.zeros(250))\n",
    "    \n",
    "    conv_3 = tf.nn.conv2d(pool_2, weights_3, strides, padding= 'VALID') + bias_3\n",
    "    \n",
    "    #Activation \n",
    "    conv_3 = tf.nn.relu(conv_3)\n",
    "    conv_3 = tf.nn.dropout(conv_3, 0.7)\n",
    "    \n",
    "    #Maxpool 4 4 250 output 2 2 250\n",
    "    \n",
    "    filter_shape_3 = [1, 2, 2, 1]\n",
    "    pool_3 = tf.nn.max_pool(conv_3, filter_shape_3, stride_pool, padding='VALID')\n",
    "    \n",
    "    \n",
    "    #Layer 4 Input 2 2 250 output 1 1 800\n",
    "    weights_4 = tf.Variable(tf.truncated_normal(shape= (2, 2, 250, 1000), mean = mu, stddev = sigma))\n",
    "    bias_4 = tf.Variable(tf.zeros(1000))\n",
    "    \n",
    "    conv_4 = tf.nn.conv2d(pool_3, weights_4, strides, padding= \"VALID\") + bias_4\n",
    "    \n",
    "    #Activation\n",
    "    conv_4 = tf.nn.relu(conv_4)\n",
    "    conv_4 = tf.nn.dropout(conv_4, 0.6)\n",
    "    \n",
    "    \n",
    "    \n",
    "    \n",
    "    \n",
    "    \n",
    "    #Flatten 2 2 250 to 1000\n",
    "    fc1 = tf.contrib.layers.flatten(conv_4)\n",
    "    \n",
    "    #Output 1000 to 300\n",
    "    wd2 = tf.Variable(tf.truncated_normal((1000, 500), mean=mu, stddev=sigma))\n",
    "    bd2 = tf.Variable(tf.zeros(500))\n",
    "    \n",
    "    fc2 = tf.add(tf.matmul(fc1, wd2), bd2)\n",
    "    \n",
    "    #Activate \n",
    "    fc2 = tf.nn.relu(fc2)\n",
    "    \n",
    "    \n",
    "    #fc2 = tf.nn.dropout(fc2, dropout)\n",
    "    \n",
    "    #Flatten 320 to 84\n",
    "    \n",
    "    wd3 = tf.Variable(tf.truncated_normal((500, 300), mean=mu, stddev=sigma))\n",
    "    bd3 = tf.Variable(tf.zeros(300))\n",
    "    \n",
    "    fc3 = tf.add(tf.matmul(fc2, wd3), bd3)\n",
    "    \n",
    "    #Activate \n",
    "    fc3 = tf.nn.relu(fc3)\n",
    "    fc3 = tf.nn.dropout(fc3, 0.6)\n",
    "    \n",
    "    #Input 400 to 220\n",
    "    \n",
    "    wd4 = tf.Variable(tf.truncated_normal((300, 120), mean=mu, stddev= sigma))\n",
    "    bd4 = tf.Variable(tf.zeros(120))\n",
    "    \n",
    "    fc4 = tf.add(tf.matmul(fc3, wd4), bd4)\n",
    "    \n",
    "    #Activate\n",
    "    fc4 = tf.nn.relu(fc4)\n",
    "    #fc4 = tf.nn.dropout(fc4, dropout)\n",
    "    \n",
    "    #Input 220 to 84\n",
    "    \n",
    "    wd5 = tf.Variable(tf.truncated_normal((120, 84), mean=mu, stddev = sigma))\n",
    "    bd5 = tf.Variable(tf.zeros(84))\n",
    "    \n",
    "    fc5 = tf.add(tf.matmul(fc4, wd5), bd5)\n",
    "    \n",
    "    #Activate\n",
    "    fc5 = tf.nn.relu(fc5)\n",
    "    \n",
    "    #Flatten 84 to n_classes\n",
    "    \n",
    "    wd6 = tf.Variable(tf.truncated_normal((84, n_classes), mean=mu, stddev=sigma))\n",
    "    bd6 = tf.Variable(tf.zeros(n_classes))\n",
    "    \n",
    "    logits = tf.add(tf.matmul(fc5, wd6), bd6)\n",
    "    \n",
    "    #Activate \n",
    "    logits = tf.nn.relu(logits)\n",
    "    #logits = tf.nn.dropout(logits, dropout)\n",
    "    \n",
    "    return logits\n"
   ]
  },
  {
   "cell_type": "markdown",
   "metadata": {},
   "source": [
    "### Train, Validate and Test the Model"
   ]
  },
  {
   "cell_type": "markdown",
   "metadata": {},
   "source": [
    "A validation set can be used to assess how well the model is performing. A low accuracy on the training and validation\n",
    "sets imply underfitting. A high accuracy on the training set but low accuracy on the validation set implies overfitting."
   ]
  },
  {
   "cell_type": "code",
   "execution_count": 15,
   "metadata": {
    "collapsed": false
   },
   "outputs": [],
   "source": [
    "### Train your model here.\n",
    "### Calculate and report the accuracy on the training and validation set.\n",
    "### Once a final model architecture is selected, \n",
    "### the accuracy on the test set should be calculated and reported as well.\n",
    "### Feel free to use as many code cells as needed.\n",
    "x = tf.placeholder(tf.float32, (None, 32, 32, 1))\n",
    "y = tf.placeholder(tf.int32, (None))\n",
    "one_hot_y = tf.one_hot(y, n_classes)"
   ]
  },
  {
   "cell_type": "code",
   "execution_count": 16,
   "metadata": {
    "collapsed": false
   },
   "outputs": [],
   "source": [
    "#The Training Pipeline\n",
    "the_learning_rate = 0.001\n",
    "logits = LeNet(x)\n",
    "\n",
    "cross_entropy = tf.nn.softmax_cross_entropy_with_logits(labels = one_hot_y, logits = logits)\n",
    "loss_operation = tf.reduce_mean(cross_entropy)\n",
    "optimizer = tf.train.AdamOptimizer(learning_rate= the_learning_rate)\n",
    "\n",
    "training_operation = optimizer.minimize(loss_operation)\n"
   ]
  },
  {
   "cell_type": "code",
   "execution_count": 17,
   "metadata": {
    "collapsed": true
   },
   "outputs": [],
   "source": [
    "#Model Visualization\n",
    "correct_prediction = tf.equal(tf.argmax(logits, 1), tf.argmax(one_hot_y, 1))\n",
    "accuracy_operation = tf.reduce_mean(tf.cast(correct_prediction, tf.float32))\n",
    "saver = tf.train.Saver()\n",
    "\n",
    "def evaluate(X_data, y_data):\n",
    "    num_examples = len(X_data)\n",
    "    total_accuracy = 0\n",
    "    sess = tf.get_default_session()\n",
    "    for i in range(0, num_examples, BATCH_SIZE):\n",
    "        batch_x, batch_y = X_data[i: i + BATCH_SIZE], y_data[i: i + BATCH_SIZE]\n",
    "        accuracy = sess.run(accuracy_operation, feed_dict = {x: batch_x, y: batch_y})\n",
    "        total_accuracy += (accuracy * len(batch_x))\n",
    "    return total_accuracy / num_examples\n",
    "                            \n",
    "    \n",
    "    "
   ]
  },
  {
   "cell_type": "code",
   "execution_count": 18,
   "metadata": {
    "collapsed": false
   },
   "outputs": [
    {
     "name": "stdout",
     "output_type": "stream",
     "text": [
      "Train\n",
      "\n",
      "EPOCHS 1\n",
      "Validation Accuracy ...  0.662358322922\n",
      "\n",
      "EPOCHS 2\n",
      "Validation Accuracy ...  0.832426350538\n",
      "\n",
      "EPOCHS 3\n",
      "Validation Accuracy ...  0.862585082752\n",
      "\n",
      "EPOCHS 4\n",
      "Validation Accuracy ...  0.888662185393\n",
      "\n",
      "EPOCHS 5\n",
      "Validation Accuracy ...  0.897052203717\n",
      "\n",
      "EPOCHS 6\n",
      "Validation Accuracy ...  0.901814112452\n",
      "\n",
      "EPOCHS 7\n",
      "Validation Accuracy ...  0.89954653727\n",
      "\n",
      "EPOCHS 8\n",
      "Validation Accuracy ...  0.909750614037\n",
      "\n",
      "EPOCHS 9\n",
      "Validation Accuracy ...  0.919727943787\n",
      "\n",
      "EPOCHS 10\n",
      "Validation Accuracy ...  0.91043089685\n",
      "\n",
      "EPOCHS 11\n",
      "Validation Accuracy ...  0.912244941102\n",
      "\n",
      "EPOCHS 12\n",
      "Validation Accuracy ...  0.908390084091\n",
      "\n",
      "EPOCHS 13\n",
      "Validation Accuracy ...  0.910430883469\n",
      "\n",
      "EPOCHS 14\n",
      "Validation Accuracy ...  0.923582823504\n",
      "\n",
      "EPOCHS 15\n",
      "Validation Accuracy ...  0.906576024432\n",
      "\n",
      "EPOCHS 16\n",
      "Validation Accuracy ...  0.920861735636\n",
      "\n",
      "EPOCHS 17\n",
      "Validation Accuracy ...  0.914285766024\n",
      "\n",
      "EPOCHS 18\n",
      "Validation Accuracy ...  0.917006857541\n",
      "\n",
      "EPOCHS 19\n",
      "Validation Accuracy ...  0.914059018602\n",
      "\n",
      "EPOCHS 20\n",
      "Validation Accuracy ...  0.935600970473\n",
      "\n",
      "EPOCHS 21\n",
      "Validation Accuracy ...  0.935827736952\n",
      "\n",
      "EPOCHS 22\n",
      "Validation Accuracy ...  0.915192802747\n",
      "\n",
      "EPOCHS 23\n",
      "Validation Accuracy ...  0.93537420967\n",
      "\n",
      "EPOCHS 24\n",
      "Validation Accuracy ...  0.919501197581\n",
      "\n",
      "EPOCHS 25\n",
      "Validation Accuracy ...  0.930158778924\n",
      "\n",
      "EPOCHS 26\n",
      "Validation Accuracy ...  0.933333383936\n",
      "\n",
      "EPOCHS 27\n",
      "Validation Accuracy ...  0.934920690498\n",
      "\n",
      "EPOCHS 28\n",
      "Validation Accuracy ...  0.928344730617\n",
      "\n",
      "EPOCHS 29\n",
      "Validation Accuracy ...  0.923809585928\n",
      "\n",
      "EPOCHS 30\n",
      "Validation Accuracy ...  0.932653120586\n",
      "\n",
      "EPOCHS 31\n",
      "Validation Accuracy ...  0.931292584964\n",
      "\n",
      "EPOCHS 32\n",
      "Validation Accuracy ...  0.931292583342\n",
      "\n",
      "EPOCHS 33\n",
      "Validation Accuracy ...  0.933786899865\n",
      "\n",
      "EPOCHS 34\n",
      "Validation Accuracy ...  0.932653118964\n",
      "\n",
      "EPOCHS 35\n",
      "Validation Accuracy ...  0.938095314973\n",
      "\n",
      "EPOCHS 36\n",
      "Validation Accuracy ...  0.92834473305\n",
      "\n",
      "EPOCHS 37\n",
      "Validation Accuracy ...  0.926530677445\n",
      "\n",
      "EPOCHS 38\n",
      "Validation Accuracy ...  0.929932030285\n",
      "\n",
      "EPOCHS 39\n",
      "Validation Accuracy ...  0.93446719241\n",
      "\n",
      "EPOCHS 40\n",
      "Validation Accuracy ...  0.932879885849\n",
      "\n",
      "Model saved\n"
     ]
    }
   ],
   "source": [
    "\n",
    "with tf.Session() as sess:\n",
    "    sess.run(tf.global_variables_initializer())\n",
    "    num_examples = len(X_train)\n",
    "    print(\"Train\")\n",
    "    print()\n",
    "    for i in range(EPOCHS):\n",
    "        X_train, y_train = shuffle(X_train, y_train)\n",
    "        X_train = augment_all(X_train)\n",
    "        total_accuracy = 0\n",
    "        sess = tf.get_default_session()\n",
    "        for j in range(0, num_examples, BATCH_SIZE):\n",
    "            batch_x, batch_y = X_train[j : j + BATCH_SIZE], y_train[j: j + BATCH_SIZE]\n",
    "            sess.run(training_operation, feed_dict = {x: batch_x, y: batch_y})\n",
    "        \n",
    "        validation_accuracy = evaluate(X_valid, y_valid)\n",
    "        \n",
    "        \n",
    "        print(\"EPOCHS\", (i + 1))\n",
    "        print(\"Validation Accuracy ... \", validation_accuracy)\n",
    "        \n",
    "        print()\n",
    "        \n",
    "        saver.save(sess, './boom1')\n",
    "    print(\"Model saved\")\n",
    "            "
   ]
  },
  {
   "cell_type": "code",
   "execution_count": 19,
   "metadata": {
    "collapsed": false
   },
   "outputs": [
    {
     "name": "stdout",
     "output_type": "stream",
     "text": [
      "Test Accuracy  0.933560160958\n"
     ]
    }
   ],
   "source": [
    "with tf.Session() as sess:\n",
    "    saver = tf.train.import_meta_graph('./boom1.meta')\n",
    "    saver.restore(sess, \"./boom1\")\n",
    "    test_accuracy = evaluate(X_test, y_test)\n",
    "    print(\"Test Accuracy \", test_accuracy)"
   ]
  },
  {
   "cell_type": "markdown",
   "metadata": {},
   "source": [
    "---\n",
    "\n",
    "## Step 3: Test a Model on New Images\n",
    "\n",
    "To give yourself more insight into how your model is working, download at least five pictures of German traffic signs from the web and use your model to predict the traffic sign type.\n",
    "\n",
    "You may find `signnames.csv` useful as it contains mappings from the class id (integer) to the actual sign name."
   ]
  },
  {
   "cell_type": "markdown",
   "metadata": {},
   "source": [
    "### Load and Output the Images"
   ]
  },
  {
   "cell_type": "code",
   "execution_count": 29,
   "metadata": {
    "collapsed": false
   },
   "outputs": [
    {
     "name": "stdout",
     "output_type": "stream",
     "text": [
      "(6, 32, 32, 1)\n"
     ]
    },
    {
     "data": {
      "image/png": "[encoded data removed]",
      "text/plain": [
       "<matplotlib.figure.Figure at 0x7f800592d400>"
      ]
     },
     "metadata": {},
     "output_type": "display_data"
    }
   ],
   "source": [
    "### Load the images and plot them here.\n",
    "### Feel free to use as many code cells as needed.\n",
    "import glob\n",
    "import matplotlib.image as mpimg\n",
    "import matplotlib.pyplot as plt\n",
    "import random\n",
    "import numpy as np\n",
    "import csv\n",
    "\n",
    "fig, the_axis = plt.subplots(1,6, figsize=(10, 4))\n",
    "fig.subplots_adjust(hspace = .2, wspace=1)\n",
    "the_axis = the_axis.ravel()\n",
    "\n",
    "\n",
    "\n",
    "internet_images = []\n",
    "\n",
    "\n",
    "for i, img in enumerate(glob.glob('./internet-images/*.png')):\n",
    "    image = cv2.imread(img)\n",
    "    image = cv2.resize(image, (32, 32))\n",
    "    the_axis[i].axis('off')\n",
    "    the_axis[i].imshow(cv2.cvtColor(image, cv2.COLOR_BGR2RGB))\n",
    "    internet_images.append(image)\n",
    "\n",
    "    \n",
    "images = np.asarray(internet_images)\n",
    "\n",
    "image_gray = np.sum(images/3, axis = 3, keepdims= True)\n",
    "images_normalized = (image_gray - 128)/128 \n",
    "\n",
    "print(images_normalized.shape)\n",
    "\n"
   ]
  },
  {
   "cell_type": "markdown",
   "metadata": {},
   "source": [
    "### Predict the Sign Type for Each Image"
   ]
  },
  {
   "cell_type": "code",
   "execution_count": 30,
   "metadata": {
    "collapsed": false
   },
   "outputs": [
    {
     "name": "stdout",
     "output_type": "stream",
     "text": [
      "Test Set Accuracy  0.83333337307\n"
     ]
    }
   ],
   "source": [
    "### Run the predictions here and use the model to output the prediction for each image.\n",
    "### Make sure to pre-process the images with the same pre-processing pipeline used earlier.\n",
    "### Feel free to use as many code cells as needed.\n",
    "\n",
    "labels = [11, 25, 28, 12, 17, 34]\n",
    "\n",
    "with tf.Session() as sess:\n",
    "    sess.run(tf.global_variables_initializer())\n",
    "    saver = tf.train.import_meta_graph('./boom1.meta')\n",
    "    saver.restore(sess, \"./boom1\")\n",
    "    my_accuracy = evaluate(images_normalized, labels)\n",
    "    print(\"Test Set Accuracy \", my_accuracy)\n",
    "    "
   ]
  },
  {
   "cell_type": "markdown",
   "metadata": {},
   "source": [
    "### Analyze Performance"
   ]
  },
  {
   "cell_type": "code",
   "execution_count": 55,
   "metadata": {
    "collapsed": false
   },
   "outputs": [
    {
     "data": {
      "image/png": "[encoded data removed]",
      "text/plain": [
       "<matplotlib.figure.Figure at 0x7f8005f46cf8>"
      ]
     },
     "metadata": {},
     "output_type": "display_data"
    }
   ],
   "source": [
    "### Calculate the accuracy for these 5 new images. \n",
    "### For example, if the model predicted 1 out of 5 signs correctly, it's 20% accurate on these new images.\n",
    "softmax_logits = tf.nn.softmax(logits)\n",
    "top_k = tf.nn.top_k(softmax_logits, k=3)\n",
    "\n",
    "\n",
    "with tf.Session() as sess:\n",
    "    sess.run(tf.global_variables_initializer())\n",
    "    saver = tf.train.import_meta_graph('./boom1.meta')\n",
    "    saver.restore(sess, \"./boom1\")\n",
    "    softmax_logits = sess.run(softmax_logits, feed_dict={x: images_normalized})\n",
    "    my_top_k = sess.run(top_k, feed_dict={x: images_normalized})\n",
    "\n",
    "    \n",
    "    fig, my_axis = plt.subplots(len(internet_images),2, figsize=(18, 20))\n",
    "    fig.subplots_adjust(hspace = .4, wspace=.2)\n",
    "    my_axis = my_axis.ravel()\n",
    "\n",
    "    for i, image in enumerate(internet_images):\n",
    "        my_axis[2*i].axis('off')\n",
    "        my_axis[2*i].imshow(cv2.cvtColor(image, cv2.COLOR_BGR2RGB))\n",
    "        my_axis[2*i].set_title('Test')\n",
    "        guess1 = my_top_k[1][i][0]\n",
    "        index1 = np.argwhere(y_valid == guess1)[0]\n",
    "        my_axis[2*i+1].axis('off')\n",
    "        my_axis[2*i+1].imshow(X_valid[index1].squeeze(), cmap='gray')\n",
    "        my_axis[2*i+1].set_title('{} ({:.0f}%)'.format(guess1, 100*my_top_k[0][i][0]))\n",
    "        \n",
    "        "
   ]
  },
  {
   "cell_type": "markdown",
   "metadata": {},
   "source": [
    "### Output Top 5 Softmax Probabilities For Each Image Found on the Web"
   ]
  },
  {
   "cell_type": "markdown",
   "metadata": {},
   "source": [
    "For each of the new images, print out the model's softmax probabilities to show the **certainty** of the model's predictions (limit the output to the top 5 probabilities for each image). [`tf.nn.top_k`](https://www.tensorflow.org/versions/r0.12/api_docs/python/nn.html#top_k) could prove helpful here. \n",
    "\n",
    "The example below demonstrates how tf.nn.top_k can be used to find the top k predictions for each image.\n",
    "\n",
    "`tf.nn.top_k` will return the values and indices (class ids) of the top k predictions. So if k=3, for each sign, it'll return the 3 largest probabilities (out of a possible 43) and the correspoding class ids.\n",
    "\n",
    "Take this numpy array as an example. The values in the array represent predictions. The array contains softmax probabilities for five candidate images with six possible classes. `tk.nn.top_k` is used to choose the three classes with the highest probability:\n",
    "\n",
    "```\n",
    "# (5, 6) array\n",
    "a = np.array([[ 0.24879643,  0.07032244,  0.12641572,  0.34763842,  0.07893497,\n",
    "         0.12789202],\n",
    "       [ 0.28086119,  0.27569815,  0.08594638,  0.0178669 ,  0.18063401,\n",
    "         0.15899337],\n",
    "       [ 0.26076848,  0.23664738,  0.08020603,  0.07001922,  0.1134371 ,\n",
    "         0.23892179],\n",
    "       [ 0.11943333,  0.29198961,  0.02605103,  0.26234032,  0.1351348 ,\n",
    "         0.16505091],\n",
    "       [ 0.09561176,  0.34396535,  0.0643941 ,  0.16240774,  0.24206137,\n",
    "         0.09155967]])\n",
    "```\n",
    "\n",
    "Running it through `sess.run(tf.nn.top_k(tf.constant(a), k=3))` produces:\n",
    "\n",
    "```\n",
    "TopKV2(values=array([[ 0.34763842,  0.24879643,  0.12789202],\n",
    "       [ 0.28086119,  0.27569815,  0.18063401],\n",
    "       [ 0.26076848,  0.23892179,  0.23664738],\n",
    "       [ 0.29198961,  0.26234032,  0.16505091],\n",
    "       [ 0.34396535,  0.24206137,  0.16240774]]), indices=array([[3, 0, 5],\n",
    "       [0, 1, 4],\n",
    "       [0, 5, 1],\n",
    "       [1, 3, 5],\n",
    "       [1, 4, 3]], dtype=int32))\n",
    "```\n",
    "\n",
    "Looking just at the first row we get `[ 0.34763842,  0.24879643,  0.12789202]`, you can confirm these are the 3 largest probabilities in `a`. You'll also notice `[3, 0, 5]` are the corresponding indices."
   ]
  },
  {
   "cell_type": "code",
   "execution_count": 61,
   "metadata": {
    "collapsed": false
   },
   "outputs": [
    {
     "data": {
      "image/png": "[encoded data removed]",
      "text/plain": [
       "<matplotlib.figure.Figure at 0x7f7fae38beb8>"
      ]
     },
     "metadata": {},
     "output_type": "display_data"
    }
   ],
   "source": [
    "### Print out the top five softmax probabilities for the predictions on the German traffic sign images found on the web. \n",
    "### Feel free to use as many code cells as needed.\n",
    "\n",
    "fig, my_axis = plt.subplots(6,1, figsize=(10, 20))\n",
    "my_axis = my_axis.ravel()\n",
    "\n",
    "for i in range(6):\n",
    "    my_axis[i].bar(np.arange(n_classes), softmax_logits[(i-1)]) \n",
    "    my_axis[i].set_title(\"Feature no %d\" %(i+1))\n",
    "    my_axis[i].set_ylabel('Probability')\n",
    "    \n",
    "\n"
   ]
  },
  {
   "cell_type": "markdown",
   "metadata": {},
   "source": [
    "### Project Writeup\n",
    "\n",
    "Once you have completed the code implementation, document your results in a project writeup using this [template](https://github.com/udacity/CarND-Traffic-Sign-Classifier-Project/blob/master/writeup_template.md) as a guide. The writeup can be in a markdown or pdf file. "
   ]
  },
  {
   "cell_type": "markdown",
   "metadata": {},
   "source": [
    "> **Note**: Once you have completed all of the code implementations and successfully answered each question above, you may finalize your work by exporting the iPython Notebook as an HTML document. You can do this by using the menu above and navigating to  \\n\",\n",
    "    \"**File -> Download as -> HTML (.html)**. Include the finished document along with this notebook as your submission."
   ]
  },
  {
   "cell_type": "markdown",
   "metadata": {},
   "source": [
    "---\n",
    "\n",
    "## Step 4 (Optional): Visualize the Neural Network's State with Test Images\n",
    "\n",
    " This Section is not required to complete but acts as an additional excersise for understaning the output of a neural network's weights. While neural networks can be a great learning device they are often referred to as a black box. We can understand what the weights of a neural network look like better by plotting their feature maps. After successfully training your neural network you can see what it's feature maps look like by plotting the output of the network's weight layers in response to a test stimuli image. From these plotted feature maps, it's possible to see what characteristics of an image the network finds interesting. For a sign, maybe the inner network feature maps react with high activation to the sign's boundary outline or to the contrast in the sign's painted symbol.\n",
    "\n",
    " Provided for you below is the function code that allows you to get the visualization output of any tensorflow weight layer you want. The inputs to the function should be a stimuli image, one used during training or a new one you provided, and then the tensorflow variable name that represents the layer's state during the training process, for instance if you wanted to see what the [LeNet lab's](https://classroom.udacity.com/nanodegrees/nd013/parts/fbf77062-5703-404e-b60c-95b78b2f3f9e/modules/6df7ae49-c61c-4bb2-a23e-6527e69209ec/lessons/601ae704-1035-4287-8b11-e2c2716217ad/concepts/d4aca031-508f-4e0b-b493-e7b706120f81) feature maps looked like for it's second convolutional layer you could enter conv2 as the tf_activation variable.\n",
    "\n",
    "For an example of what feature map outputs look like, check out NVIDIA's results in their paper [End-to-End Deep Learning for Self-Driving Cars](https://devblogs.nvidia.com/parallelforall/deep-learning-self-driving-cars/) in the section Visualization of internal CNN State. NVIDIA was able to show that their network's inner weights had high activations to road boundary lines by comparing feature maps from an image with a clear path to one without. Try experimenting with a similar test to show that your trained network's weights are looking for interesting features, whether it's looking at differences in feature maps from images with or without a sign, or even what feature maps look like in a trained network vs a completely untrained one on the same sign image.\n",
    "\n",
    "<figure>\n",
    " <img src=\"visualize_cnn.png\" width=\"380\" alt=\"Combined Image\" />\n",
    " <figcaption>\n",
    " <p></p> \n",
    " <p style=\"text-align: center;\"> Your output should look something like this (above)</p> \n",
    " </figcaption>\n",
    "</figure>\n",
    " <p></p> \n"
   ]
  },
  {
   "cell_type": "code",
   "execution_count": null,
   "metadata": {
    "collapsed": true
   },
   "outputs": [],
   "source": [
    "### Visualize your network's feature maps here.\n",
    "### Feel free to use as many code cells as needed.\n",
    "\n",
    "# image_input: the test image being fed into the network to produce the feature maps\n",
    "# tf_activation: should be a tf variable name used during your training procedure that represents the calculated state of a specific weight layer\n",
    "# activation_min/max: can be used to view the activation contrast in more detail, by default matplot sets min and max to the actual min and max values of the output\n",
    "# plt_num: used to plot out multiple different weight feature map sets on the same block, just extend the plt number for each new feature map entry\n",
    "\n",
    "def outputFeatureMap(image_input, tf_activation, activation_min=-1, activation_max=-1 ,plt_num=1):\n",
    "    # Here make sure to preprocess your image_input in a way your network expects\n",
    "    # with size, normalization, ect if needed\n",
    "    # image_input =\n",
    "    # Note: x should be the same name as your network's tensorflow data placeholder variable\n",
    "    # If you get an error tf_activation is not defined it may be having trouble accessing the variable from inside a function\n",
    "    activation = tf_activation.eval(session=sess,feed_dict={x : image_input})\n",
    "    featuremaps = activation.shape[3]\n",
    "    plt.figure(plt_num, figsize=(15,15))\n",
    "    for featuremap in range(featuremaps):\n",
    "        plt.subplot(6,8, featuremap+1) # sets the number of feature maps to show on each row and column\n",
    "        plt.title('FeatureMap ' + str(featuremap)) # displays the feature map number\n",
    "        if activation_min != -1 & activation_max != -1:\n",
    "            plt.imshow(activation[0,:,:, featuremap], interpolation=\"nearest\", vmin =activation_min, vmax=activation_max, cmap=\"gray\")\n",
    "        elif activation_max != -1:\n",
    "            plt.imshow(activation[0,:,:, featuremap], interpolation=\"nearest\", vmax=activation_max, cmap=\"gray\")\n",
    "        elif activation_min !=-1:\n",
    "            plt.imshow(activation[0,:,:, featuremap], interpolation=\"nearest\", vmin=activation_min, cmap=\"gray\")\n",
    "        else:\n",
    "            plt.imshow(activation[0,:,:, featuremap], interpolation=\"nearest\", cmap=\"gray\")"
   ]
  }
 ],
 "metadata": {
  "anaconda-cloud": {},
  "kernelspec": {
   "display_name": "Python [conda env:carnd-term1]",
   "language": "python",
   "name": "conda-env-carnd-term1-py"
  },
  "language_info": {
   "codemirror_mode": {
    "name": "ipython",
    "version": 3
   },
   "file_extension": ".py",
   "mimetype": "text/x-python",
   "name": "python",
   "nbconvert_exporter": "python",
   "pygments_lexer": "ipython3",
   "version": "3.5.2"
  }
 },
 "nbformat": 4,
 "nbformat_minor": 1
}
